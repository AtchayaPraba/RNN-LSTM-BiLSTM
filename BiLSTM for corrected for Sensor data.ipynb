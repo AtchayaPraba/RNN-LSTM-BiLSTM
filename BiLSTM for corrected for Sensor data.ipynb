{
 "cells": [
  {
   "cell_type": "code",
   "execution_count": 1,
   "id": "99a3e866",
   "metadata": {},
   "outputs": [],
   "source": [
    "import os\n",
    "\n",
    "import pandas as pd\n",
    "import numpy as np\n",
    "\n",
    "import matplotlib.pyplot as plt\n",
    "\n",
    "import time"
   ]
  },
  {
   "cell_type": "code",
   "execution_count": 2,
   "id": "dc61d0a4",
   "metadata": {},
   "outputs": [
    {
     "name": "stdout",
     "output_type": "stream",
     "text": [
      "2019-01-01 00:00:00 2019-12-31 23:30:00\n",
      "2019-01-01 00:00:00 2019-12-31 23:30:00\n",
      "2019-01-01 00:00:00 2019-12-31 23:30:00\n",
      "2019-01-01 00:00:00 2019-12-31 23:30:00\n"
     ]
    }
   ],
   "source": [
    "file_dir = os.path.join(os.getcwd(),'spatial-lstm','sensor_data','interpolated_data')\n",
    "adcp = []\n",
    "for i in range(1,5):\n",
    "    file_name = 'ADCP_Sensor_'+str(i)+'.csv'\n",
    "    file_path = os.path.join(file_dir,file_name)\n",
    "    df = pd.read_csv(file_path, parse_dates=True, index_col=\"observed_timestamp\")\n",
    "    df[np.isnan(df)]=-1 # mask the missing values\n",
    "    adcp.append(df['value'])\n",
    "    print(df.index.min(),df.index.max()) # Check timestamp"
   ]
  },
  {
   "cell_type": "code",
   "execution_count": 3,
   "id": "624b5bf6",
   "metadata": {},
   "outputs": [
    {
     "data": {
      "text/html": [
       "<div>\n",
       "<style scoped>\n",
       "    .dataframe tbody tr th:only-of-type {\n",
       "        vertical-align: middle;\n",
       "    }\n",
       "\n",
       "    .dataframe tbody tr th {\n",
       "        vertical-align: top;\n",
       "    }\n",
       "\n",
       "    .dataframe thead th {\n",
       "        text-align: right;\n",
       "    }\n",
       "</style>\n",
       "<table border=\"1\" class=\"dataframe\">\n",
       "  <thead>\n",
       "    <tr style=\"text-align: right;\">\n",
       "      <th></th>\n",
       "      <th>value</th>\n",
       "      <th>value</th>\n",
       "      <th>value</th>\n",
       "      <th>value</th>\n",
       "    </tr>\n",
       "    <tr>\n",
       "      <th>observed_timestamp</th>\n",
       "      <th></th>\n",
       "      <th></th>\n",
       "      <th></th>\n",
       "      <th></th>\n",
       "    </tr>\n",
       "  </thead>\n",
       "  <tbody>\n",
       "    <tr>\n",
       "      <th>2019-01-01 00:00:00</th>\n",
       "      <td>28.274415</td>\n",
       "      <td>9.636717</td>\n",
       "      <td>25.353515</td>\n",
       "      <td>19.801758</td>\n",
       "    </tr>\n",
       "    <tr>\n",
       "      <th>2019-01-01 00:30:00</th>\n",
       "      <td>27.239258</td>\n",
       "      <td>12.173828</td>\n",
       "      <td>30.364747</td>\n",
       "      <td>18.477539</td>\n",
       "    </tr>\n",
       "    <tr>\n",
       "      <th>2019-01-01 01:00:00</th>\n",
       "      <td>27.541013</td>\n",
       "      <td>12.520508</td>\n",
       "      <td>26.920409</td>\n",
       "      <td>19.249998</td>\n",
       "    </tr>\n",
       "    <tr>\n",
       "      <th>2019-01-01 01:30:00</th>\n",
       "      <td>29.662109</td>\n",
       "      <td>12.282225</td>\n",
       "      <td>31.734375</td>\n",
       "      <td>18.083008</td>\n",
       "    </tr>\n",
       "    <tr>\n",
       "      <th>2019-01-01 02:00:00</th>\n",
       "      <td>32.172850</td>\n",
       "      <td>13.845703</td>\n",
       "      <td>36.116213</td>\n",
       "      <td>17.734374</td>\n",
       "    </tr>\n",
       "  </tbody>\n",
       "</table>\n",
       "</div>"
      ],
      "text/plain": [
       "                         value      value      value      value\n",
       "observed_timestamp                                             \n",
       "2019-01-01 00:00:00  28.274415   9.636717  25.353515  19.801758\n",
       "2019-01-01 00:30:00  27.239258  12.173828  30.364747  18.477539\n",
       "2019-01-01 01:00:00  27.541013  12.520508  26.920409  19.249998\n",
       "2019-01-01 01:30:00  29.662109  12.282225  31.734375  18.083008\n",
       "2019-01-01 02:00:00  32.172850  13.845703  36.116213  17.734374"
      ]
     },
     "execution_count": 3,
     "metadata": {},
     "output_type": "execute_result"
    }
   ],
   "source": [
    "df = pd.DataFrame(adcp).transpose()\n",
    "df.head()"
   ]
  },
  {
   "cell_type": "code",
   "execution_count": 4,
   "id": "2325064e",
   "metadata": {},
   "outputs": [],
   "source": [
    "df.columns = ['ADCP_Sensor_1', 'ADCP_Sensor_2', 'ADCP_Sensor_3', 'ADCP_Sensor_4']"
   ]
  },
  {
   "cell_type": "code",
   "execution_count": 5,
   "id": "fbe4ba66",
   "metadata": {},
   "outputs": [
    {
     "data": {
      "text/html": [
       "<div>\n",
       "<style scoped>\n",
       "    .dataframe tbody tr th:only-of-type {\n",
       "        vertical-align: middle;\n",
       "    }\n",
       "\n",
       "    .dataframe tbody tr th {\n",
       "        vertical-align: top;\n",
       "    }\n",
       "\n",
       "    .dataframe thead th {\n",
       "        text-align: right;\n",
       "    }\n",
       "</style>\n",
       "<table border=\"1\" class=\"dataframe\">\n",
       "  <thead>\n",
       "    <tr style=\"text-align: right;\">\n",
       "      <th></th>\n",
       "      <th>ADCP_Sensor_1</th>\n",
       "      <th>ADCP_Sensor_2</th>\n",
       "      <th>ADCP_Sensor_3</th>\n",
       "      <th>ADCP_Sensor_4</th>\n",
       "    </tr>\n",
       "    <tr>\n",
       "      <th>observed_timestamp</th>\n",
       "      <th></th>\n",
       "      <th></th>\n",
       "      <th></th>\n",
       "      <th></th>\n",
       "    </tr>\n",
       "  </thead>\n",
       "  <tbody>\n",
       "    <tr>\n",
       "      <th>2019-01-01 00:00:00</th>\n",
       "      <td>28.274415</td>\n",
       "      <td>9.636717</td>\n",
       "      <td>25.353515</td>\n",
       "      <td>19.801758</td>\n",
       "    </tr>\n",
       "    <tr>\n",
       "      <th>2019-01-01 00:30:00</th>\n",
       "      <td>27.239258</td>\n",
       "      <td>12.173828</td>\n",
       "      <td>30.364747</td>\n",
       "      <td>18.477539</td>\n",
       "    </tr>\n",
       "    <tr>\n",
       "      <th>2019-01-01 01:00:00</th>\n",
       "      <td>27.541013</td>\n",
       "      <td>12.520508</td>\n",
       "      <td>26.920409</td>\n",
       "      <td>19.249998</td>\n",
       "    </tr>\n",
       "    <tr>\n",
       "      <th>2019-01-01 01:30:00</th>\n",
       "      <td>29.662109</td>\n",
       "      <td>12.282225</td>\n",
       "      <td>31.734375</td>\n",
       "      <td>18.083008</td>\n",
       "    </tr>\n",
       "    <tr>\n",
       "      <th>2019-01-01 02:00:00</th>\n",
       "      <td>32.172850</td>\n",
       "      <td>13.845703</td>\n",
       "      <td>36.116213</td>\n",
       "      <td>17.734374</td>\n",
       "    </tr>\n",
       "  </tbody>\n",
       "</table>\n",
       "</div>"
      ],
      "text/plain": [
       "                     ADCP_Sensor_1  ADCP_Sensor_2  ADCP_Sensor_3  \\\n",
       "observed_timestamp                                                 \n",
       "2019-01-01 00:00:00      28.274415       9.636717      25.353515   \n",
       "2019-01-01 00:30:00      27.239258      12.173828      30.364747   \n",
       "2019-01-01 01:00:00      27.541013      12.520508      26.920409   \n",
       "2019-01-01 01:30:00      29.662109      12.282225      31.734375   \n",
       "2019-01-01 02:00:00      32.172850      13.845703      36.116213   \n",
       "\n",
       "                     ADCP_Sensor_4  \n",
       "observed_timestamp                  \n",
       "2019-01-01 00:00:00      19.801758  \n",
       "2019-01-01 00:30:00      18.477539  \n",
       "2019-01-01 01:00:00      19.249998  \n",
       "2019-01-01 01:30:00      18.083008  \n",
       "2019-01-01 02:00:00      17.734374  "
      ]
     },
     "execution_count": 5,
     "metadata": {},
     "output_type": "execute_result"
    }
   ],
   "source": [
    "df.head()"
   ]
  },
  {
   "cell_type": "code",
   "execution_count": 6,
   "id": "68150d10",
   "metadata": {},
   "outputs": [
    {
     "name": "stdout",
     "output_type": "stream",
     "text": [
      "(17520, 4)\n"
     ]
    }
   ],
   "source": [
    "print(df.shape)"
   ]
  },
  {
   "cell_type": "code",
   "execution_count": 7,
   "id": "d8fec5b4",
   "metadata": {},
   "outputs": [
    {
     "name": "stdout",
     "output_type": "stream",
     "text": [
      "17520 14016 17520\n"
     ]
    }
   ],
   "source": [
    "length  = len(df)\n",
    "s = int(length*0.8)\n",
    "e = int(length*1)\n",
    "print(length, s, e)"
   ]
  },
  {
   "cell_type": "code",
   "execution_count": 8,
   "id": "8dc8abee",
   "metadata": {},
   "outputs": [
    {
     "name": "stdout",
     "output_type": "stream",
     "text": [
      "0.2 3504.0 14016\n"
     ]
    }
   ],
   "source": [
    "# Percentage of data for testing\n",
    "test_percent = 0.2\n",
    "\n",
    "# No. of test points\n",
    "test_points= np.round(len(df)*test_percent)\n",
    "\n",
    "# Test Cut off point (index value)\n",
    "test_ind = int(len(df)-test_points)\n",
    "\n",
    "print(test_percent, test_points, test_ind)"
   ]
  },
  {
   "cell_type": "code",
   "execution_count": 9,
   "id": "1339299e",
   "metadata": {},
   "outputs": [],
   "source": [
    "train = df.iloc[:test_ind]\n",
    "test = df.iloc[test_ind:]"
   ]
  },
  {
   "cell_type": "code",
   "execution_count": 10,
   "id": "6e8912f8",
   "metadata": {},
   "outputs": [
    {
     "name": "stdout",
     "output_type": "stream",
     "text": [
      "(14016, 4) (3504, 4)\n",
      "<class 'pandas.core.frame.DataFrame'> <class 'pandas.core.frame.DataFrame'>\n"
     ]
    }
   ],
   "source": [
    "print(train.shape, test.shape)\n",
    "print(type(train), type(test))"
   ]
  },
  {
   "cell_type": "code",
   "execution_count": 11,
   "id": "45c2e47a",
   "metadata": {},
   "outputs": [],
   "source": [
    "from sklearn.preprocessing import MinMaxScaler"
   ]
  },
  {
   "cell_type": "code",
   "execution_count": 12,
   "id": "e41314c6",
   "metadata": {},
   "outputs": [],
   "source": [
    "scaler = MinMaxScaler()\n",
    "scaled_train = scaler.fit_transform(train)\n",
    "scaled_test = scaler.transform(test)"
   ]
  },
  {
   "cell_type": "code",
   "execution_count": 13,
   "id": "2a977014",
   "metadata": {},
   "outputs": [
    {
     "name": "stdout",
     "output_type": "stream",
     "text": [
      "(14016, 4) (3504, 4)\n",
      "<class 'numpy.ndarray'> <class 'numpy.ndarray'>\n"
     ]
    }
   ],
   "source": [
    "print(scaled_train.shape, scaled_test.shape)\n",
    "print(type(scaled_train), type(scaled_test))"
   ]
  },
  {
   "cell_type": "code",
   "execution_count": 14,
   "id": "c274ccfd",
   "metadata": {},
   "outputs": [
    {
     "data": {
      "text/plain": [
       "array([[0.3241514 , 0.06822284, 0.19850746, 0.07267823],\n",
       "       [0.31107629, 0.09173929, 0.23774331, 0.06716608],\n",
       "       [0.31488777, 0.09495265, 0.21077558, 0.07038149],\n",
       "       ...,\n",
       "       [0.20665634, 0.07229616, 0.1581591 , 0.16632364],\n",
       "       [0.25348741, 0.06611763, 0.154122  , 0.16827421],\n",
       "       [0.20732158, 0.06110818, 0.15124704, 0.16964173]])"
      ]
     },
     "execution_count": 14,
     "metadata": {},
     "output_type": "execute_result"
    }
   ],
   "source": [
    "scaled_train"
   ]
  },
  {
   "cell_type": "code",
   "execution_count": 15,
   "id": "f3cab7a2",
   "metadata": {},
   "outputs": [
    {
     "data": {
      "text/plain": [
       "array([[0.20671965, 0.06493178, 0.16143929, 0.17025192],\n",
       "       [0.20611447, 0.06037499, 0.15501657, 0.17050209],\n",
       "       [0.20571706, 0.05825688, 0.13732354, 0.170781  ],\n",
       "       ...,\n",
       "       [0.26808879, 0.08619922, 0.1929261 , 0.06286123],\n",
       "       [0.26047812, 0.09911467, 0.20100774, 0.06302383],\n",
       "       [0.27684932, 0.1085916 , 0.25160183, 0.05823526]])"
      ]
     },
     "execution_count": 15,
     "metadata": {},
     "output_type": "execute_result"
    }
   ],
   "source": [
    "scaled_test"
   ]
  },
  {
   "cell_type": "code",
   "execution_count": 16,
   "id": "0d1e36e0",
   "metadata": {},
   "outputs": [
    {
     "data": {
      "text/html": [
       "<div>\n",
       "<style scoped>\n",
       "    .dataframe tbody tr th:only-of-type {\n",
       "        vertical-align: middle;\n",
       "    }\n",
       "\n",
       "    .dataframe tbody tr th {\n",
       "        vertical-align: top;\n",
       "    }\n",
       "\n",
       "    .dataframe thead th {\n",
       "        text-align: right;\n",
       "    }\n",
       "</style>\n",
       "<table border=\"1\" class=\"dataframe\">\n",
       "  <thead>\n",
       "    <tr style=\"text-align: right;\">\n",
       "      <th></th>\n",
       "      <th>ADCP_Sensor_1</th>\n",
       "      <th>ADCP_Sensor_2</th>\n",
       "      <th>ADCP_Sensor_3</th>\n",
       "      <th>ADCP_Sensor_4</th>\n",
       "    </tr>\n",
       "  </thead>\n",
       "  <tbody>\n",
       "    <tr>\n",
       "      <th>0</th>\n",
       "      <td>0.324151</td>\n",
       "      <td>0.068223</td>\n",
       "      <td>0.198507</td>\n",
       "      <td>0.072678</td>\n",
       "    </tr>\n",
       "    <tr>\n",
       "      <th>1</th>\n",
       "      <td>0.311076</td>\n",
       "      <td>0.091739</td>\n",
       "      <td>0.237743</td>\n",
       "      <td>0.067166</td>\n",
       "    </tr>\n",
       "    <tr>\n",
       "      <th>2</th>\n",
       "      <td>0.314888</td>\n",
       "      <td>0.094953</td>\n",
       "      <td>0.210776</td>\n",
       "      <td>0.070381</td>\n",
       "    </tr>\n",
       "    <tr>\n",
       "      <th>3</th>\n",
       "      <td>0.341679</td>\n",
       "      <td>0.092744</td>\n",
       "      <td>0.248467</td>\n",
       "      <td>0.065524</td>\n",
       "    </tr>\n",
       "    <tr>\n",
       "      <th>4</th>\n",
       "      <td>0.373393</td>\n",
       "      <td>0.107236</td>\n",
       "      <td>0.282775</td>\n",
       "      <td>0.064073</td>\n",
       "    </tr>\n",
       "  </tbody>\n",
       "</table>\n",
       "</div>"
      ],
      "text/plain": [
       "   ADCP_Sensor_1  ADCP_Sensor_2  ADCP_Sensor_3  ADCP_Sensor_4\n",
       "0       0.324151       0.068223       0.198507       0.072678\n",
       "1       0.311076       0.091739       0.237743       0.067166\n",
       "2       0.314888       0.094953       0.210776       0.070381\n",
       "3       0.341679       0.092744       0.248467       0.065524\n",
       "4       0.373393       0.107236       0.282775       0.064073"
      ]
     },
     "execution_count": 16,
     "metadata": {},
     "output_type": "execute_result"
    }
   ],
   "source": [
    "scaled_train = pd.DataFrame(scaled_train, columns=['ADCP_Sensor_1', 'ADCP_Sensor_2', 'ADCP_Sensor_3', 'ADCP_Sensor_4'])\n",
    "scaled_train.head()"
   ]
  },
  {
   "cell_type": "code",
   "execution_count": 17,
   "id": "61a29775",
   "metadata": {},
   "outputs": [
    {
     "data": {
      "text/html": [
       "<div>\n",
       "<style scoped>\n",
       "    .dataframe tbody tr th:only-of-type {\n",
       "        vertical-align: middle;\n",
       "    }\n",
       "\n",
       "    .dataframe tbody tr th {\n",
       "        vertical-align: top;\n",
       "    }\n",
       "\n",
       "    .dataframe thead th {\n",
       "        text-align: right;\n",
       "    }\n",
       "</style>\n",
       "<table border=\"1\" class=\"dataframe\">\n",
       "  <thead>\n",
       "    <tr style=\"text-align: right;\">\n",
       "      <th></th>\n",
       "      <th>ADCP_Sensor_1</th>\n",
       "      <th>ADCP_Sensor_2</th>\n",
       "      <th>ADCP_Sensor_3</th>\n",
       "      <th>ADCP_Sensor_4</th>\n",
       "    </tr>\n",
       "  </thead>\n",
       "  <tbody>\n",
       "    <tr>\n",
       "      <th>0</th>\n",
       "      <td>0.206720</td>\n",
       "      <td>0.064932</td>\n",
       "      <td>0.161439</td>\n",
       "      <td>0.170252</td>\n",
       "    </tr>\n",
       "    <tr>\n",
       "      <th>1</th>\n",
       "      <td>0.206114</td>\n",
       "      <td>0.060375</td>\n",
       "      <td>0.155017</td>\n",
       "      <td>0.170502</td>\n",
       "    </tr>\n",
       "    <tr>\n",
       "      <th>2</th>\n",
       "      <td>0.205717</td>\n",
       "      <td>0.058257</td>\n",
       "      <td>0.137324</td>\n",
       "      <td>0.170781</td>\n",
       "    </tr>\n",
       "    <tr>\n",
       "      <th>3</th>\n",
       "      <td>0.222729</td>\n",
       "      <td>0.050653</td>\n",
       "      <td>0.122085</td>\n",
       "      <td>0.170669</td>\n",
       "    </tr>\n",
       "    <tr>\n",
       "      <th>4</th>\n",
       "      <td>0.279196</td>\n",
       "      <td>0.054672</td>\n",
       "      <td>0.120128</td>\n",
       "      <td>0.170710</td>\n",
       "    </tr>\n",
       "  </tbody>\n",
       "</table>\n",
       "</div>"
      ],
      "text/plain": [
       "   ADCP_Sensor_1  ADCP_Sensor_2  ADCP_Sensor_3  ADCP_Sensor_4\n",
       "0       0.206720       0.064932       0.161439       0.170252\n",
       "1       0.206114       0.060375       0.155017       0.170502\n",
       "2       0.205717       0.058257       0.137324       0.170781\n",
       "3       0.222729       0.050653       0.122085       0.170669\n",
       "4       0.279196       0.054672       0.120128       0.170710"
      ]
     },
     "execution_count": 17,
     "metadata": {},
     "output_type": "execute_result"
    }
   ],
   "source": [
    "scaled_test = pd.DataFrame(scaled_test, columns=['ADCP_Sensor_1', 'ADCP_Sensor_2', 'ADCP_Sensor_3', 'ADCP_Sensor_4'])\n",
    "scaled_test.head()"
   ]
  },
  {
   "cell_type": "code",
   "execution_count": 18,
   "id": "f7d4aa14",
   "metadata": {},
   "outputs": [],
   "source": [
    "from tensorflow.keras.preprocessing.sequence import TimeseriesGenerator"
   ]
  },
  {
   "cell_type": "code",
   "execution_count": 19,
   "id": "bddce6ca",
   "metadata": {},
   "outputs": [],
   "source": [
    "# length of input sequence in number of timesteps (number of input samples to produce one output)\n",
    "length = 6\n",
    "# Number of timeseries samples in each batch\n",
    "# batch_size = 1\n",
    "# No.of features\n",
    "n_features = 4\n",
    "# stride\n",
    "stride=5\n",
    "\n",
    "generator_1 = TimeseriesGenerator(data=scaled_train['ADCP_Sensor_1'], \n",
    "                                targets=scaled_train['ADCP_Sensor_1'], \n",
    "                                length=length,                              \n",
    "                                batch_size=1, \n",
    "                                stride=5)\n",
    "\n",
    "generator_2 = TimeseriesGenerator(data=scaled_train['ADCP_Sensor_2'], \n",
    "                                  targets=scaled_train['ADCP_Sensor_2'],\n",
    "                                  length=length,        \n",
    "                                  batch_size=1, \n",
    "                                  stride=5)\n",
    "\n",
    "generator_3 = TimeseriesGenerator(data=scaled_train['ADCP_Sensor_3'], \n",
    "                                  targets=scaled_train['ADCP_Sensor_3'],\n",
    "                                  length=length,        \n",
    "                                  batch_size=1, \n",
    "                                  stride=5)\n",
    "\n",
    "generator_4 = TimeseriesGenerator(data=scaled_train['ADCP_Sensor_4'], \n",
    "                                  targets=scaled_train['ADCP_Sensor_4'],\n",
    "                                  length=length,        \n",
    "                                  batch_size=1, \n",
    "                                  stride=5)\n",
    "\n",
    "val_generator_1 = TimeseriesGenerator(data=scaled_test['ADCP_Sensor_1'], \n",
    "                                      targets=scaled_test['ADCP_Sensor_1'], \n",
    "                                      length=length,    \n",
    "                                      batch_size=1,\n",
    "                                      stride=5)\n",
    "\n",
    "val_generator_2 = TimeseriesGenerator(data=scaled_test['ADCP_Sensor_2'], \n",
    "                                      targets=scaled_test['ADCP_Sensor_2'], \n",
    "                                      length=length,    \n",
    "                                      batch_size=1,\n",
    "                                      stride=5)\n",
    "\n",
    "val_generator_3 = TimeseriesGenerator(data=scaled_test['ADCP_Sensor_3'], \n",
    "                                      targets=scaled_test['ADCP_Sensor_3'], \n",
    "                                      length=length,    \n",
    "                                      batch_size=1,\n",
    "                                      stride=5)\n",
    "\n",
    "val_generator_4 = TimeseriesGenerator(data=scaled_test['ADCP_Sensor_4'], \n",
    "                                      targets=scaled_test['ADCP_Sensor_4'], \n",
    "                                      length=length,    \n",
    "                                      batch_size=1,\n",
    "                                      stride=5)"
   ]
  },
  {
   "cell_type": "code",
   "execution_count": 20,
   "id": "55df180e",
   "metadata": {},
   "outputs": [],
   "source": [
    "a, b = [], []\n",
    "for i in range(len(generator_1)):\n",
    "    X1, y1 = generator_1[i]\n",
    "    X2, y2 = generator_2[i]\n",
    "    X3, y3 = generator_3[i]\n",
    "    X4, y4 = generator_4[i]\n",
    "    a.append(X1.tolist()+X2.tolist()+X3.tolist()+X4.tolist())\n",
    "    temp_lst = [y1.tolist(),y2.tolist(),y3.tolist(),y4.tolist()]\n",
    "    b.append(temp_lst)\n",
    "    \n",
    "X_train = np.array(a)\n",
    "y_train = np.array(b)"
   ]
  },
  {
   "cell_type": "code",
   "execution_count": 21,
   "id": "4dcab0ba",
   "metadata": {},
   "outputs": [],
   "source": [
    "a, b = [], []\n",
    "for i in range(len(val_generator_1)):\n",
    "    X1, y1 = val_generator_1[i]\n",
    "    X2, y2 = val_generator_2[i]\n",
    "    X3, y3 = val_generator_3[i]\n",
    "    X4, y4 = val_generator_4[i]\n",
    "    a.append(X1.tolist()+X2.tolist()+X3.tolist()+X4.tolist())\n",
    "    temp_lst = [y1.tolist(),y2.tolist(),y3.tolist(),y4.tolist()]\n",
    "    b.append(temp_lst)\n",
    "    \n",
    "X_test = np.array(a)\n",
    "y_test = np.array(b)"
   ]
  },
  {
   "cell_type": "code",
   "execution_count": 22,
   "id": "8f0c6118",
   "metadata": {},
   "outputs": [
    {
     "name": "stdout",
     "output_type": "stream",
     "text": [
      "(2802, 4, 6) (2802, 4, 1)\n",
      "(700, 4, 6) (700, 4, 1)\n"
     ]
    }
   ],
   "source": [
    "print(X_train.shape, y_train.shape)\n",
    "print(X_test.shape, y_test.shape)"
   ]
  },
  {
   "cell_type": "code",
   "execution_count": 23,
   "id": "0958bb7c",
   "metadata": {},
   "outputs": [],
   "source": [
    "# X_train\n",
    "# y_train\n",
    "\n",
    "# X_test\n",
    "# y_test"
   ]
  },
  {
   "cell_type": "code",
   "execution_count": 24,
   "id": "fbffdc6d",
   "metadata": {},
   "outputs": [],
   "source": [
    "from tensorflow.keras.models import Sequential\n",
    "from tensorflow.keras.layers import Dense, SimpleRNN, LSTM, Bidirectional, Masking"
   ]
  },
  {
   "cell_type": "code",
   "execution_count": 25,
   "id": "03ece9c7",
   "metadata": {},
   "outputs": [],
   "source": [
    "# Bidirectional LSTM model\n",
    "def stacked_LSTM(X, Y):\n",
    "    time_step = X.shape[1]\n",
    "    input_dim = X.shape[2]\n",
    "    out = Y.shape[2]\n",
    "    \n",
    "    #Bidirectional LSTM\n",
    "    start = time.time() # For compile time calculation\n",
    "    \n",
    "    model = Sequential()\n",
    "    #model.add(Masking(mask_value=-1.,input_shape=(time_step, input_dim)))\n",
    "    model.add(Bidirectional(LSTM(32,activation='elu', input_shape=(time_step, input_dim),return_sequences=True)))\n",
    "    model.add(Bidirectional(LSTM(64, activation='elu', input_shape=(time_step, input_dim), return_sequences=True)))\n",
    "    #model.add(Masking(mask_value=-1.,input_shape=(time_step, input_dim)))\n",
    "    model.add(Dense(out))\n",
    "    model.compile(loss='mean_absolute_error', optimizer='adam')\n",
    "    hist = model.fit(X, Y,epochs=10, validation_split=.2,\n",
    "              verbose=1, batch_size=10)\n",
    "    model.summary()\n",
    "    \n",
    "    end = time.time()# For compile time calculation\n",
    "    \n",
    "    print(\"Total compile time: --------\", end - start, 's')\n",
    "    return model, hist"
   ]
  },
  {
   "cell_type": "code",
   "execution_count": 26,
   "id": "6936585c",
   "metadata": {},
   "outputs": [
    {
     "name": "stdout",
     "output_type": "stream",
     "text": [
      "Epoch 1/10\n",
      "225/225 [==============================] - 8s 7ms/step - loss: 0.0417 - val_loss: 0.0303\n",
      "Epoch 2/10\n",
      "225/225 [==============================] - 1s 4ms/step - loss: 0.0180 - val_loss: 0.0260\n",
      "Epoch 3/10\n",
      "225/225 [==============================] - 1s 5ms/step - loss: 0.0163 - val_loss: 0.0259\n",
      "Epoch 4/10\n",
      "225/225 [==============================] - 1s 4ms/step - loss: 0.0159 - val_loss: 0.0245\n",
      "Epoch 5/10\n",
      "225/225 [==============================] - 1s 4ms/step - loss: 0.0155 - val_loss: 0.0262\n",
      "Epoch 6/10\n",
      "225/225 [==============================] - 1s 4ms/step - loss: 0.0159 - val_loss: 0.0249\n",
      "Epoch 7/10\n",
      "225/225 [==============================] - 1s 4ms/step - loss: 0.0156 - val_loss: 0.0255\n",
      "Epoch 8/10\n",
      "225/225 [==============================] - 1s 4ms/step - loss: 0.0154 - val_loss: 0.0245\n",
      "Epoch 9/10\n",
      "225/225 [==============================] - 1s 4ms/step - loss: 0.0155 - val_loss: 0.0244\n",
      "Epoch 10/10\n",
      "225/225 [==============================] - 1s 4ms/step - loss: 0.0152 - val_loss: 0.0268\n",
      "Model: \"sequential\"\n",
      "_________________________________________________________________\n",
      " Layer (type)                Output Shape              Param #   \n",
      "=================================================================\n",
      " bidirectional (Bidirectiona  (None, 4, 64)            9984      \n",
      " l)                                                              \n",
      "                                                                 \n",
      " bidirectional_1 (Bidirectio  (None, 4, 128)           66048     \n",
      " nal)                                                            \n",
      "                                                                 \n",
      " dense (Dense)               (None, 4, 1)              129       \n",
      "                                                                 \n",
      "=================================================================\n",
      "Total params: 76,161\n",
      "Trainable params: 76,161\n",
      "Non-trainable params: 0\n",
      "_________________________________________________________________\n",
      "Total compile time: -------- 17.68452501296997 s\n"
     ]
    }
   ],
   "source": [
    "model, hit = stacked_LSTM(X_train,y_train)"
   ]
  },
  {
   "cell_type": "code",
   "execution_count": 27,
   "id": "72e7822b",
   "metadata": {},
   "outputs": [
    {
     "data": {
      "text/plain": [
       "<AxesSubplot:>"
      ]
     },
     "execution_count": 27,
     "metadata": {},
     "output_type": "execute_result"
    },
    {
     "data": {
      "image/png": "[encoded data removed]",
      "text/plain": [
       "<Figure size 432x288 with 1 Axes>"
      ]
     },
     "metadata": {
      "needs_background": "light"
     },
     "output_type": "display_data"
    }
   ],
   "source": [
    "loss = pd.DataFrame(hit.history)\n",
    "loss.plot()"
   ]
  },
  {
   "cell_type": "code",
   "execution_count": 28,
   "id": "cb4e7ee3",
   "metadata": {},
   "outputs": [
    {
     "name": "stdout",
     "output_type": "stream",
     "text": [
      "22/22 [==============================] - 1s 3ms/step\n"
     ]
    }
   ],
   "source": [
    "y_pred = model.predict(X_test, verbose=1)"
   ]
  },
  {
   "cell_type": "code",
   "execution_count": 29,
   "id": "1267216b",
   "metadata": {},
   "outputs": [
    {
     "name": "stdout",
     "output_type": "stream",
     "text": [
      "(700, 4, 1) (700, 4, 1)\n"
     ]
    }
   ],
   "source": [
    "print(y_pred.shape, y_test.shape)"
   ]
  },
  {
   "cell_type": "code",
   "execution_count": 30,
   "id": "8b4d4cea",
   "metadata": {},
   "outputs": [],
   "source": [
    "def regression_error (y_test, y_pred):\n",
    "    \n",
    "    from sklearn.metrics import mean_absolute_error, mean_squared_error, r2_score\n",
    "    \n",
    "    MAE = mean_absolute_error(y_test,y_pred)\n",
    "    MSE = mean_squared_error(y_test,y_pred)\n",
    "    RMSE = np.sqrt(mean_squared_error(y_test,y_pred))\n",
    "    r2 = r2_score(y_test,y_pred)\n",
    "    \n",
    "    print(f\"MAE: {MAE}\")\n",
    "    print(f\"MSE: {MSE}\")\n",
    "    print(f\"RMSE: {RMSE}\")\n",
    "    print(f\"r2: {r2}\")"
   ]
  },
  {
   "cell_type": "code",
   "execution_count": 31,
   "id": "3d19021e",
   "metadata": {},
   "outputs": [],
   "source": [
    "# flattern the batch time series data into a m by n matrix\n",
    "# m = p.shape[1]: number of sensors, n=p.shape[0]*p.shape[2]: time steps\n",
    "def flattern(p):\n",
    "    pred_y_matrix = [[]for _ in range(len(p[0])) ]\n",
    "    for pp in p:\n",
    "        a = pp.tolist()\n",
    "        for m in range(len(a)):\n",
    "            pred_y_matrix[m] += a[m]\n",
    "    return pred_y_matrix\n",
    "\n",
    "# NOTE: Used after prediction"
   ]
  },
  {
   "cell_type": "code",
   "execution_count": 32,
   "id": "03059332",
   "metadata": {},
   "outputs": [
    {
     "name": "stdout",
     "output_type": "stream",
     "text": [
      "MAE: 0.010254552213749005\n",
      "MSE: 0.00031403641114493365\n",
      "RMSE: 0.017721072516778822\n",
      "r2: 0.9009667934900706\n"
     ]
    }
   ],
   "source": [
    "regression_error(flattern(y_test), flattern(y_pred))"
   ]
  },
  {
   "cell_type": "code",
   "execution_count": 33,
   "id": "1c99a767",
   "metadata": {},
   "outputs": [
    {
     "data": {
      "text/html": [
       "<div>\n",
       "<style scoped>\n",
       "    .dataframe tbody tr th:only-of-type {\n",
       "        vertical-align: middle;\n",
       "    }\n",
       "\n",
       "    .dataframe tbody tr th {\n",
       "        vertical-align: top;\n",
       "    }\n",
       "\n",
       "    .dataframe thead th {\n",
       "        text-align: right;\n",
       "    }\n",
       "</style>\n",
       "<table border=\"1\" class=\"dataframe\">\n",
       "  <thead>\n",
       "    <tr style=\"text-align: right;\">\n",
       "      <th></th>\n",
       "      <th>ADCP_Sensor_1</th>\n",
       "      <th>ADCP_Sensor_2</th>\n",
       "      <th>ADCP_Sensor_3</th>\n",
       "      <th>ADCP_Sensor_4</th>\n",
       "    </tr>\n",
       "  </thead>\n",
       "  <tbody>\n",
       "    <tr>\n",
       "      <th>0</th>\n",
       "      <td>0.243907</td>\n",
       "      <td>0.063978</td>\n",
       "      <td>0.113063</td>\n",
       "      <td>0.170899</td>\n",
       "    </tr>\n",
       "    <tr>\n",
       "      <th>1</th>\n",
       "      <td>0.232462</td>\n",
       "      <td>0.090762</td>\n",
       "      <td>0.106816</td>\n",
       "      <td>0.165778</td>\n",
       "    </tr>\n",
       "    <tr>\n",
       "      <th>2</th>\n",
       "      <td>0.101073</td>\n",
       "      <td>0.078650</td>\n",
       "      <td>0.112007</td>\n",
       "      <td>0.323994</td>\n",
       "    </tr>\n",
       "    <tr>\n",
       "      <th>3</th>\n",
       "      <td>0.103836</td>\n",
       "      <td>0.077220</td>\n",
       "      <td>0.116434</td>\n",
       "      <td>0.588011</td>\n",
       "    </tr>\n",
       "    <tr>\n",
       "      <th>4</th>\n",
       "      <td>0.114530</td>\n",
       "      <td>0.075111</td>\n",
       "      <td>0.100898</td>\n",
       "      <td>0.566943</td>\n",
       "    </tr>\n",
       "  </tbody>\n",
       "</table>\n",
       "</div>"
      ],
      "text/plain": [
       "   ADCP_Sensor_1  ADCP_Sensor_2  ADCP_Sensor_3  ADCP_Sensor_4\n",
       "0       0.243907       0.063978       0.113063       0.170899\n",
       "1       0.232462       0.090762       0.106816       0.165778\n",
       "2       0.101073       0.078650       0.112007       0.323994\n",
       "3       0.103836       0.077220       0.116434       0.588011\n",
       "4       0.114530       0.075111       0.100898       0.566943"
      ]
     },
     "execution_count": 33,
     "metadata": {},
     "output_type": "execute_result"
    }
   ],
   "source": [
    "y_test_df = pd.DataFrame(flattern(y_test), \n",
    "                         index=['ADCP_Sensor_1', 'ADCP_Sensor_2', 'ADCP_Sensor_3', 'ADCP_Sensor_4']).transpose()\n",
    "y_test_df.head()"
   ]
  },
  {
   "cell_type": "code",
   "execution_count": 34,
   "id": "ea68ff47",
   "metadata": {},
   "outputs": [],
   "source": [
    "y_pred_df = pd.DataFrame(flattern(y_pred), \n",
    "                         index=['ADCP_Sensor_1', 'ADCP_Sensor_2', 'ADCP_Sensor_3', 'ADCP_Sensor_4']).transpose()\n",
    "y_pred_df = y_pred_df.add_prefix('Bi-LSTM_')"
   ]
  },
  {
   "cell_type": "code",
   "execution_count": 35,
   "id": "f4743fcf",
   "metadata": {},
   "outputs": [
    {
     "data": {
      "text/html": [
       "<div>\n",
       "<style scoped>\n",
       "    .dataframe tbody tr th:only-of-type {\n",
       "        vertical-align: middle;\n",
       "    }\n",
       "\n",
       "    .dataframe tbody tr th {\n",
       "        vertical-align: top;\n",
       "    }\n",
       "\n",
       "    .dataframe thead th {\n",
       "        text-align: right;\n",
       "    }\n",
       "</style>\n",
       "<table border=\"1\" class=\"dataframe\">\n",
       "  <thead>\n",
       "    <tr style=\"text-align: right;\">\n",
       "      <th></th>\n",
       "      <th>ADCP_Sensor_1</th>\n",
       "      <th>ADCP_Sensor_2</th>\n",
       "      <th>ADCP_Sensor_3</th>\n",
       "      <th>ADCP_Sensor_4</th>\n",
       "      <th>Bi-LSTM_ADCP_Sensor_1</th>\n",
       "      <th>Bi-LSTM_ADCP_Sensor_2</th>\n",
       "      <th>Bi-LSTM_ADCP_Sensor_3</th>\n",
       "      <th>Bi-LSTM_ADCP_Sensor_4</th>\n",
       "    </tr>\n",
       "  </thead>\n",
       "  <tbody>\n",
       "    <tr>\n",
       "      <th>0</th>\n",
       "      <td>0.243907</td>\n",
       "      <td>0.063978</td>\n",
       "      <td>0.113063</td>\n",
       "      <td>0.170899</td>\n",
       "      <td>0.254610</td>\n",
       "      <td>0.056076</td>\n",
       "      <td>0.100663</td>\n",
       "      <td>0.161307</td>\n",
       "    </tr>\n",
       "    <tr>\n",
       "      <th>1</th>\n",
       "      <td>0.232462</td>\n",
       "      <td>0.090762</td>\n",
       "      <td>0.106816</td>\n",
       "      <td>0.165778</td>\n",
       "      <td>0.218244</td>\n",
       "      <td>0.081087</td>\n",
       "      <td>0.096479</td>\n",
       "      <td>0.158822</td>\n",
       "    </tr>\n",
       "    <tr>\n",
       "      <th>2</th>\n",
       "      <td>0.101073</td>\n",
       "      <td>0.078650</td>\n",
       "      <td>0.112007</td>\n",
       "      <td>0.323994</td>\n",
       "      <td>0.176673</td>\n",
       "      <td>0.082439</td>\n",
       "      <td>0.095852</td>\n",
       "      <td>0.154106</td>\n",
       "    </tr>\n",
       "    <tr>\n",
       "      <th>3</th>\n",
       "      <td>0.103836</td>\n",
       "      <td>0.077220</td>\n",
       "      <td>0.116434</td>\n",
       "      <td>0.588011</td>\n",
       "      <td>0.097975</td>\n",
       "      <td>0.079405</td>\n",
       "      <td>0.116313</td>\n",
       "      <td>0.537869</td>\n",
       "    </tr>\n",
       "    <tr>\n",
       "      <th>4</th>\n",
       "      <td>0.114530</td>\n",
       "      <td>0.075111</td>\n",
       "      <td>0.100898</td>\n",
       "      <td>0.566943</td>\n",
       "      <td>0.101371</td>\n",
       "      <td>0.067713</td>\n",
       "      <td>0.113126</td>\n",
       "      <td>0.547927</td>\n",
       "    </tr>\n",
       "  </tbody>\n",
       "</table>\n",
       "</div>"
      ],
      "text/plain": [
       "   ADCP_Sensor_1  ADCP_Sensor_2  ADCP_Sensor_3  ADCP_Sensor_4  \\\n",
       "0       0.243907       0.063978       0.113063       0.170899   \n",
       "1       0.232462       0.090762       0.106816       0.165778   \n",
       "2       0.101073       0.078650       0.112007       0.323994   \n",
       "3       0.103836       0.077220       0.116434       0.588011   \n",
       "4       0.114530       0.075111       0.100898       0.566943   \n",
       "\n",
       "   Bi-LSTM_ADCP_Sensor_1  Bi-LSTM_ADCP_Sensor_2  Bi-LSTM_ADCP_Sensor_3  \\\n",
       "0               0.254610               0.056076               0.100663   \n",
       "1               0.218244               0.081087               0.096479   \n",
       "2               0.176673               0.082439               0.095852   \n",
       "3               0.097975               0.079405               0.116313   \n",
       "4               0.101371               0.067713               0.113126   \n",
       "\n",
       "   Bi-LSTM_ADCP_Sensor_4  \n",
       "0               0.161307  \n",
       "1               0.158822  \n",
       "2               0.154106  \n",
       "3               0.537869  \n",
       "4               0.547927  "
      ]
     },
     "execution_count": 35,
     "metadata": {},
     "output_type": "execute_result"
    }
   ],
   "source": [
    "res = pd.concat([y_test_df,y_pred_df],axis=1)\n",
    "res.head()"
   ]
  },
  {
   "cell_type": "code",
   "execution_count": 36,
   "id": "95951c8a",
   "metadata": {},
   "outputs": [
    {
     "data": {
      "text/plain": [
       "Text(0.5, 1.0, 'ADCP_Sensor_4')"
      ]
     },
     "execution_count": 36,
     "metadata": {},
     "output_type": "execute_result"
    },
    {
     "data": {
      "image/png": "[encoded data removed]",
      "text/plain": [
       "<Figure size 1008x720 with 4 Axes>"
      ]
     },
     "metadata": {
      "needs_background": "light"
     },
     "output_type": "display_data"
    }
   ],
   "source": [
    "fig, axes = plt.subplots(2, 2, sharex=True, figsize=(14,10))\n",
    "\n",
    "res.filter(regex='_1',axis=1).plot(ax=axes[0,0])\n",
    "axes[0,0].set_title('ADCP_Sensor_1')\n",
    "\n",
    "res.filter(regex='_2',axis=1).plot(ax=axes[0,1])\n",
    "axes[0,1].set_title('ADCP_Sensor_2')\n",
    "\n",
    "res.filter(regex='_3',axis=1).plot(ax=axes[1,0])\n",
    "axes[1,0].set_title('ADCP_Sensor_3')\n",
    "\n",
    "res.filter(regex='_4',axis=1).plot(ax=axes[1,1])\n",
    "axes[1,1].set_title('ADCP_Sensor_4')"
   ]
  },
  {
   "cell_type": "code",
   "execution_count": null,
   "id": "214fa733",
   "metadata": {},
   "outputs": [],
   "source": []
  }
 ],
 "metadata": {
  "kernelspec": {
   "display_name": "Python 3 (ipykernel)",
   "language": "python",
   "name": "python3"
  },
  "language_info": {
   "codemirror_mode": {
    "name": "ipython",
    "version": 3
   },
   "file_extension": ".py",
   "mimetype": "text/x-python",
   "name": "python",
   "nbconvert_exporter": "python",
   "pygments_lexer": "ipython3",
   "version": "3.9.12"
  }
 },
 "nbformat": 4,
 "nbformat_minor": 5
}
